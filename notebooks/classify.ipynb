{
 "cells": [
  {
   "cell_type": "code",
   "execution_count": 2,
   "metadata": {},
   "outputs": [
    {
     "name": "stderr",
     "output_type": "stream",
     "text": [
      "/home/rinat/repos/galki_rutube/.venv/lib/python3.10/site-packages/sentence_transformers/cross_encoder/CrossEncoder.py:13: TqdmWarning: IProgress not found. Please update jupyter and ipywidgets. See https://ipywidgets.readthedocs.io/en/stable/user_install.html\n",
      "  from tqdm.autonotebook import tqdm, trange\n"
     ]
    }
   ],
   "source": [
    "import pandas as pd\n",
    "import numpy as np\n",
    "from sklearn.model_selection import train_test_split\n",
    "from sentence_transformers import SentenceTransformer\n",
    "from sklearn.metrics.pairwise import cosine_similarity, rbf_kernel\n",
    "from collections import Counter\n",
    "from sklearn.metrics import accuracy_score, classification_report"
   ]
  },
  {
   "cell_type": "code",
   "execution_count": 7,
   "metadata": {},
   "outputs": [],
   "source": [
    "TRAIN_DATA_PATH = \"src/data/train.parquet\"\n",
    "ALL_COLUMNS = [\"Вопрос пользователя\", \"Классификатор 1 уровня\", \"Классификатор 2 уровня\", \"target\"]\n",
    "\n",
    "CLASSIFIER_MODEL_NAME = \"intfloat/multilingual-e5-large-instruct\"\n",
    "\n",
    "TARGET_COLUMN = \"target\"\n",
    "\n",
    "QUESTION_COLUMN = \"Вопрос пользователя\"\n",
    "EMBEDDING_COLUMN = \"embedding\"\n",
    "\n",
    "TOP_N = 1"
   ]
  },
  {
   "cell_type": "code",
   "execution_count": 8,
   "metadata": {},
   "outputs": [],
   "source": [
    "train = pd.read_parquet('/home/rinat/repos/galki_rutube/src/data/train.parquet')"
   ]
  },
  {
   "cell_type": "code",
   "execution_count": 9,
   "metadata": {},
   "outputs": [],
   "source": [
    "model = SentenceTransformer(CLASSIFIER_MODEL_NAME)"
   ]
  },
  {
   "cell_type": "code",
   "execution_count": 10,
   "metadata": {},
   "outputs": [],
   "source": [
    "\n",
    "def find_similar_class(query: str, train: pd.DataFrame, model: SentenceTransformer, top_n: int):\n",
    "    query_embedding = model.encode([query])\n",
    "    \n",
    "    try:\n",
    "        similarities = cosine_similarity(query_embedding, np.array(train[EMBEDDING_COLUMN].tolist()))\n",
    "    except ValueError as e:\n",
    "        return [], f\"Ошибка в вычислении сходства: {e}\"\n",
    "\n",
    "    similar_indices = np.argsort(similarities[0])[::-1][:top_n]\n",
    "    similar_classes = train.iloc[similar_indices][TARGET_COLUMN]\n",
    "    similar_questions = train.iloc[similar_indices][QUESTION_COLUMN]\n",
    "    most_common_class = Counter(similar_classes).most_common(1)[0][0]\n",
    "    \n",
    "    return similar_questions, most_common_class"
   ]
  },
  {
   "cell_type": "code",
   "execution_count": 11,
   "metadata": {},
   "outputs": [],
   "source": [
    "similar_questions, predicted_class = find_similar_class(\"Что такое метка 18+?\", train, model, TOP_N)"
   ]
  },
  {
   "cell_type": "code",
   "execution_count": 14,
   "metadata": {},
   "outputs": [],
   "source": [
    "similar_example = similar_questions.iloc[0] if not similar_questions.empty else None"
   ]
  },
  {
   "cell_type": "code",
   "execution_count": 24,
   "metadata": {},
   "outputs": [],
   "source": [
    "import asyncio\n",
    "import numpy as np\n",
    "import pandas as pd\n",
    "from fastapi import FastAPI\n",
    "from pydantic import BaseModel\n",
    "from sentence_transformers import SentenceTransformer\n",
    "from sklearn.metrics.pairwise import cosine_similarity\n",
    "from collections import Counter\n",
    "import uvicorn\n",
    "\n",
    "class Request(BaseModel):\n",
    "    question: str\n",
    "\n",
    "class Response(BaseModel):\n",
    "    class_: str\n"
   ]
  },
  {
   "cell_type": "code",
   "execution_count": 25,
   "metadata": {},
   "outputs": [],
   "source": [
    "response = Response(\n",
    "    class_=predicted_class\n",
    ")"
   ]
  },
  {
   "cell_type": "code",
   "execution_count": 26,
   "metadata": {},
   "outputs": [
    {
     "data": {
      "text/plain": [
       "Response(class_='МОДЕРАЦИЯ_Смена категории/возрастные ограничения')"
      ]
     },
     "execution_count": 26,
     "metadata": {},
     "output_type": "execute_result"
    }
   ],
   "source": [
    "response"
   ]
  },
  {
   "cell_type": "code",
   "execution_count": 22,
   "metadata": {},
   "outputs": [
    {
     "data": {
      "text/plain": [
       "6338    Что за метка 18+?\n",
       "Name: Вопрос пользователя, dtype: object"
      ]
     },
     "execution_count": 22,
     "metadata": {},
     "output_type": "execute_result"
    }
   ],
   "source": [
    "similar_questions"
   ]
  },
  {
   "cell_type": "code",
   "execution_count": 19,
   "metadata": {},
   "outputs": [
    {
     "data": {
      "text/plain": [
       "'Что за метка 18+?'"
      ]
     },
     "execution_count": 19,
     "metadata": {},
     "output_type": "execute_result"
    }
   ],
   "source": [
    "similar_example"
   ]
  },
  {
   "cell_type": "code",
   "execution_count": 15,
   "metadata": {},
   "outputs": [
    {
     "data": {
      "text/plain": [
       "'Что за метка 18+?'"
      ]
     },
     "execution_count": 15,
     "metadata": {},
     "output_type": "execute_result"
    }
   ],
   "source": [
    "similar_example"
   ]
  },
  {
   "cell_type": "code",
   "execution_count": 12,
   "metadata": {},
   "outputs": [
    {
     "data": {
      "text/plain": [
       "6338    Что за метка 18+?\n",
       "Name: Вопрос пользователя, dtype: object"
      ]
     },
     "execution_count": 12,
     "metadata": {},
     "output_type": "execute_result"
    }
   ],
   "source": [
    "similar_questions"
   ]
  },
  {
   "cell_type": "code",
   "execution_count": 13,
   "metadata": {},
   "outputs": [
    {
     "data": {
      "text/plain": [
       "'МОДЕРАЦИЯ_Смена категории/возрастные ограничения'"
      ]
     },
     "execution_count": 13,
     "metadata": {},
     "output_type": "execute_result"
    }
   ],
   "source": [
    "predicted_class"
   ]
  },
  {
   "cell_type": "code",
   "execution_count": null,
   "metadata": {},
   "outputs": [],
   "source": [
    "def predict_class(request: Request):\n",
    "    query = request.question\n",
    "    similar_questions, predicted_class = find_similar_class(query, train, model, TOP_N)\n",
    "    similar_example = similar_questions.iloc[0] if not similar_questions.empty else None\n",
    "    \n",
    "    response = Response(\n",
    "        class_=predicted_class,\n",
    "        similar_example=similar_example[QUESTION_COLUMN] if similar_example is not None else None\n",
    "    )\n",
    "    return response\n",
    "\n",
    "def find_similar_class(query: str, train: pd.DataFrame, model: SentenceTransformer, top_n: int):\n",
    "    query_embedding = model.encode([query])\n",
    "    \n",
    "    try:\n",
    "        similarities = cosine_similarity(query_embedding, np.array(train[EMBEDDING_COLUMN].tolist()))\n",
    "    except ValueError as e:\n",
    "        return [], f\"Ошибка в вычислении сходства: {e}\"\n",
    "\n",
    "    similar_indices = np.argsort(similarities[0])[::-1][:top_n]\n",
    "    similar_classes = train.iloc[similar_indices][TARGET_COLUMN]\n",
    "    similar_questions = train.iloc[similar_indices][QUESTION_COLUMN]\n",
    "    most_common_class = Counter(similar_classes).most_common(1)[0][0]\n",
    "    \n",
    "    return similar_questions, most_common_class"
   ]
  },
  {
   "cell_type": "code",
   "execution_count": 5,
   "metadata": {},
   "outputs": [
    {
     "data": {
      "text/html": [
       "<div>\n",
       "<style scoped>\n",
       "    .dataframe tbody tr th:only-of-type {\n",
       "        vertical-align: middle;\n",
       "    }\n",
       "\n",
       "    .dataframe tbody tr th {\n",
       "        vertical-align: top;\n",
       "    }\n",
       "\n",
       "    .dataframe thead th {\n",
       "        text-align: right;\n",
       "    }\n",
       "</style>\n",
       "<table border=\"1\" class=\"dataframe\">\n",
       "  <thead>\n",
       "    <tr style=\"text-align: right;\">\n",
       "      <th></th>\n",
       "      <th>Вопрос пользователя</th>\n",
       "      <th>Классификатор 1 уровня</th>\n",
       "      <th>Классификатор 2 уровня</th>\n",
       "      <th>target</th>\n",
       "      <th>embedding</th>\n",
       "    </tr>\n",
       "  </thead>\n",
       "  <tbody>\n",
       "    <tr>\n",
       "      <th>0</th>\n",
       "      <td>Здравствуйте! Можно уточнить причины Правилhtt...</td>\n",
       "      <td>МОДЕРАЦИЯ</td>\n",
       "      <td>Отклонение/блокировка видео</td>\n",
       "      <td>МОДЕРАЦИЯ_Отклонение/блокировка видео</td>\n",
       "      <td>[0.0062491735, -0.010457837, 0.008955387, -0.0...</td>\n",
       "    </tr>\n",
       "    <tr>\n",
       "      <th>1</th>\n",
       "      <td>Добрый вечер, какой топ причин блокировки виде...</td>\n",
       "      <td>МОДЕРАЦИЯ</td>\n",
       "      <td>Отклонение/блокировка видео</td>\n",
       "      <td>МОДЕРАЦИЯ_Отклонение/блокировка видео</td>\n",
       "      <td>[0.02596741, 0.0012711333, -0.014978344, -0.03...</td>\n",
       "    </tr>\n",
       "    <tr>\n",
       "      <th>2</th>\n",
       "      <td>Все пишут, что монетизация на рутубе отключает...</td>\n",
       "      <td>МОНЕТИЗАЦИЯ</td>\n",
       "      <td>Отключение/подключение монетизации</td>\n",
       "      <td>МОНЕТИЗАЦИЯ_Отключение/подключение монетизации</td>\n",
       "      <td>[-0.0012037684, 0.013548447, -0.013419978, -0....</td>\n",
       "    </tr>\n",
       "    <tr>\n",
       "      <th>3</th>\n",
       "      <td>Что запрещено в монетизации и что можно выклад...</td>\n",
       "      <td>МОНЕТИЗАЦИЯ</td>\n",
       "      <td>Отключение/подключение монетизации</td>\n",
       "      <td>МОНЕТИЗАЦИЯ_Отключение/подключение монетизации</td>\n",
       "      <td>[0.012090996, 0.0013656222, -0.010803133, -0.0...</td>\n",
       "    </tr>\n",
       "    <tr>\n",
       "      <th>4</th>\n",
       "      <td>Чтобы не отключали монетизацию, надо, чтобы я ...</td>\n",
       "      <td>МОНЕТИЗАЦИЯ</td>\n",
       "      <td>Отключение/подключение монетизации</td>\n",
       "      <td>МОНЕТИЗАЦИЯ_Отключение/подключение монетизации</td>\n",
       "      <td>[-0.009512662, -0.009229696, -0.018809447, -0....</td>\n",
       "    </tr>\n",
       "    <tr>\n",
       "      <th>...</th>\n",
       "      <td>...</td>\n",
       "      <td>...</td>\n",
       "      <td>...</td>\n",
       "      <td>...</td>\n",
       "      <td>...</td>\n",
       "    </tr>\n",
       "    <tr>\n",
       "      <th>8703</th>\n",
       "      <td>Как на Rutube можно найти и смотреть короткие ...</td>\n",
       "      <td>ВИДЕО</td>\n",
       "      <td>Воспроизведение видео</td>\n",
       "      <td>ВИДЕО_Воспроизведение видео</td>\n",
       "      <td>[-0.0016850237, 0.010049397, -0.01154559, -0.0...</td>\n",
       "    </tr>\n",
       "    <tr>\n",
       "      <th>8704</th>\n",
       "      <td>Есть ли на Rutube раздел с короткими роликами,...</td>\n",
       "      <td>ВИДЕО</td>\n",
       "      <td>Воспроизведение видео</td>\n",
       "      <td>ВИДЕО_Воспроизведение видео</td>\n",
       "      <td>[-0.013739904, -0.0013045246, -0.02565323, -0....</td>\n",
       "    </tr>\n",
       "    <tr>\n",
       "      <th>8705</th>\n",
       "      <td>Как на Rutube смотреть короткие видео, как на ...</td>\n",
       "      <td>ВИДЕО</td>\n",
       "      <td>Воспроизведение видео</td>\n",
       "      <td>ВИДЕО_Воспроизведение видео</td>\n",
       "      <td>[-0.007107092, 0.004368094, -0.0115768695, -0....</td>\n",
       "    </tr>\n",
       "    <tr>\n",
       "      <th>8706</th>\n",
       "      <td>Где на Rutube найти короткие видео или раздел,...</td>\n",
       "      <td>ВИДЕО</td>\n",
       "      <td>Воспроизведение видео</td>\n",
       "      <td>ВИДЕО_Воспроизведение видео</td>\n",
       "      <td>[-0.006600106, -0.00065019954, -0.022671448, -...</td>\n",
       "    </tr>\n",
       "    <tr>\n",
       "      <th>8707</th>\n",
       "      <td>Есть ли на Rutube формат коротких видео, как н...</td>\n",
       "      <td>ВИДЕО</td>\n",
       "      <td>Воспроизведение видео</td>\n",
       "      <td>ВИДЕО_Воспроизведение видео</td>\n",
       "      <td>[-0.0064845746, 0.011731398, -0.02764547, -0.0...</td>\n",
       "    </tr>\n",
       "  </tbody>\n",
       "</table>\n",
       "<p>8708 rows × 5 columns</p>\n",
       "</div>"
      ],
      "text/plain": [
       "                                    Вопрос пользователя  \\\n",
       "0     Здравствуйте! Можно уточнить причины Правилhtt...   \n",
       "1     Добрый вечер, какой топ причин блокировки виде...   \n",
       "2     Все пишут, что монетизация на рутубе отключает...   \n",
       "3     Что запрещено в монетизации и что можно выклад...   \n",
       "4     Чтобы не отключали монетизацию, надо, чтобы я ...   \n",
       "...                                                 ...   \n",
       "8703  Как на Rutube можно найти и смотреть короткие ...   \n",
       "8704  Есть ли на Rutube раздел с короткими роликами,...   \n",
       "8705  Как на Rutube смотреть короткие видео, как на ...   \n",
       "8706  Где на Rutube найти короткие видео или раздел,...   \n",
       "8707  Есть ли на Rutube формат коротких видео, как н...   \n",
       "\n",
       "     Классификатор 1 уровня              Классификатор 2 уровня  \\\n",
       "0                 МОДЕРАЦИЯ         Отклонение/блокировка видео   \n",
       "1                 МОДЕРАЦИЯ         Отклонение/блокировка видео   \n",
       "2               МОНЕТИЗАЦИЯ  Отключение/подключение монетизации   \n",
       "3               МОНЕТИЗАЦИЯ  Отключение/подключение монетизации   \n",
       "4               МОНЕТИЗАЦИЯ  Отключение/подключение монетизации   \n",
       "...                     ...                                 ...   \n",
       "8703                  ВИДЕО               Воспроизведение видео   \n",
       "8704                  ВИДЕО               Воспроизведение видео   \n",
       "8705                  ВИДЕО               Воспроизведение видео   \n",
       "8706                  ВИДЕО               Воспроизведение видео   \n",
       "8707                  ВИДЕО               Воспроизведение видео   \n",
       "\n",
       "                                              target  \\\n",
       "0              МОДЕРАЦИЯ_Отклонение/блокировка видео   \n",
       "1              МОДЕРАЦИЯ_Отклонение/блокировка видео   \n",
       "2     МОНЕТИЗАЦИЯ_Отключение/подключение монетизации   \n",
       "3     МОНЕТИЗАЦИЯ_Отключение/подключение монетизации   \n",
       "4     МОНЕТИЗАЦИЯ_Отключение/подключение монетизации   \n",
       "...                                              ...   \n",
       "8703                     ВИДЕО_Воспроизведение видео   \n",
       "8704                     ВИДЕО_Воспроизведение видео   \n",
       "8705                     ВИДЕО_Воспроизведение видео   \n",
       "8706                     ВИДЕО_Воспроизведение видео   \n",
       "8707                     ВИДЕО_Воспроизведение видео   \n",
       "\n",
       "                                              embedding  \n",
       "0     [0.0062491735, -0.010457837, 0.008955387, -0.0...  \n",
       "1     [0.02596741, 0.0012711333, -0.014978344, -0.03...  \n",
       "2     [-0.0012037684, 0.013548447, -0.013419978, -0....  \n",
       "3     [0.012090996, 0.0013656222, -0.010803133, -0.0...  \n",
       "4     [-0.009512662, -0.009229696, -0.018809447, -0....  \n",
       "...                                                 ...  \n",
       "8703  [-0.0016850237, 0.010049397, -0.01154559, -0.0...  \n",
       "8704  [-0.013739904, -0.0013045246, -0.02565323, -0....  \n",
       "8705  [-0.007107092, 0.004368094, -0.0115768695, -0....  \n",
       "8706  [-0.006600106, -0.00065019954, -0.022671448, -...  \n",
       "8707  [-0.0064845746, 0.011731398, -0.02764547, -0.0...  \n",
       "\n",
       "[8708 rows x 5 columns]"
      ]
     },
     "execution_count": 5,
     "metadata": {},
     "output_type": "execute_result"
    }
   ],
   "source": [
    "train"
   ]
  },
  {
   "cell_type": "code",
   "execution_count": 2,
   "metadata": {},
   "outputs": [],
   "source": [
    "random_state = 42\n",
    "\n",
    "ALL_COLUMNS = [\"Вопрос пользователя\", \"Классификатор 1 уровня\", \"Классификатор 2 уровня\", \"target\"]"
   ]
  },
  {
   "cell_type": "code",
   "execution_count": 3,
   "metadata": {},
   "outputs": [],
   "source": [
    "full = pd.read_csv('/home/rinat/repos/galki_rutube/classification/Сенеж хакатон - full.csv')\n",
    "full = full.rename(columns={\n",
    "                              \"Вопрос пользователя\": \"Исходный Вопрос пользователя\",\n",
    "                              \"JPT вопрос\": \"Вопрос пользователя\",\n",
    "                              \"класификатор 1\": \"Классификатор 1 уровня\",\n",
    "                              \"класификатор 2\": \"Классификатор 2 уровня\",\n",
    "                              }\n",
    "                    )\n",
    "\n",
    "full['target'] = full['Классификатор 1 уровня'] + '_' + full['Классификатор 2 уровня']"
   ]
  },
  {
   "cell_type": "code",
   "execution_count": null,
   "metadata": {},
   "outputs": [],
   "source": [
    "full.isnull().sum()"
   ]
  },
  {
   "cell_type": "code",
   "execution_count": 5,
   "metadata": {},
   "outputs": [],
   "source": [
    "data = pd.read_excel('02_Реальные_кейсы.xlsx')[['Вопрос пользователя', 'Классификатор 1 уровня', 'Классификатор 2 уровня']]\n",
    "\n",
    "model = SentenceTransformer('intfloat/multilingual-e5-large-instruct')"
   ]
  },
  {
   "cell_type": "code",
   "execution_count": 6,
   "metadata": {},
   "outputs": [],
   "source": [
    "data['target'] = data['Классификатор 1 уровня'] + '_' + data['Классификатор 2 уровня']"
   ]
  },
  {
   "cell_type": "code",
   "execution_count": 8,
   "metadata": {},
   "outputs": [],
   "source": [
    "# data['target'].value_counts(dropna=False)"
   ]
  },
  {
   "cell_type": "code",
   "execution_count": null,
   "metadata": {},
   "outputs": [],
   "source": [
    "# data['target'].value_counts()"
   ]
  },
  {
   "cell_type": "code",
   "execution_count": null,
   "metadata": {},
   "outputs": [],
   "source": [
    "print(data.shape[0], full.shape[0])"
   ]
  },
  {
   "cell_type": "code",
   "execution_count": 8,
   "metadata": {},
   "outputs": [],
   "source": [
    "# s"
   ]
  },
  {
   "cell_type": "code",
   "execution_count": 9,
   "metadata": {},
   "outputs": [],
   "source": [
    "# data.reset_index(drop=True).to_parquet('train.parquet')"
   ]
  },
  {
   "cell_type": "code",
   "execution_count": null,
   "metadata": {},
   "outputs": [],
   "source": [
    "print(data.shape[0])"
   ]
  },
  {
   "cell_type": "code",
   "execution_count": 12,
   "metadata": {},
   "outputs": [],
   "source": [
    "data.reset_index(drop=True).to_csv('train.csv')"
   ]
  },
  {
   "cell_type": "code",
   "execution_count": 11,
   "metadata": {},
   "outputs": [],
   "source": [
    "# train, test = train_test_split(data, test_size=0.35, stratify=data['target'], random_state=42)"
   ]
  },
  {
   "cell_type": "code",
   "execution_count": null,
   "metadata": {},
   "outputs": [],
   "source": [
    "# set(train['target'].unique().tolist()) == set(test['target'].unique().tolist())"
   ]
  },
  {
   "cell_type": "code",
   "execution_count": null,
   "metadata": {},
   "outputs": [],
   "source": [
    "# print(data.shape[0], train.shape[0], test.shape[0])"
   ]
  },
  {
   "cell_type": "code",
   "execution_count": 14,
   "metadata": {},
   "outputs": [],
   "source": [
    "# train = pd.concat([train, full[ALL_COLUMNS]], axis=0)"
   ]
  },
  {
   "cell_type": "code",
   "execution_count": null,
   "metadata": {},
   "outputs": [],
   "source": [
    "# print(train.shape[0], full.shape[0])"
   ]
  },
  {
   "cell_type": "code",
   "execution_count": 16,
   "metadata": {},
   "outputs": [],
   "source": [
    "# train['Эмбеддинг'] = list(model.encode(train['Вопрос пользователя'].tolist()))\n",
    "# test['Эмбеддинг'] = list(model.encode(test['Вопрос пользователя'].tolist()))"
   ]
  },
  {
   "cell_type": "code",
   "execution_count": 17,
   "metadata": {},
   "outputs": [],
   "source": [
    "# def find_similar_class(query, train_df, model, top_n=1):\n",
    "#     # Получаем эмбеддинг запроса\n",
    "#     query_embedding = model.encode([query])\n",
    "    \n",
    "#     # Вычисляем косинусное сходство\n",
    "#     similarities = cosine_similarity(query_embedding, np.array(train_df['Эмбеддинг'].tolist()))\n",
    "    \n",
    "#     # Находим индексы самых похожих вопросов\n",
    "#     similar_indices = np.argsort(similarities[0])[::-1][:top_n]\n",
    "    \n",
    "#     # Получаем классы и вопросы похожих вопросов\n",
    "#     similar_classes = train_df.iloc[similar_indices]['target']\n",
    "#     similar_questions = train_df.iloc[similar_indices]['Вопрос пользователя']\n",
    "    \n",
    "#     # Определяем класс с наибольшим количеством голосов\n",
    "#     most_common_class = Counter(similar_classes).most_common(1)[0][0]\n",
    "    \n",
    "#     return similar_questions, most_common_class\n",
    "\n",
    "# def predict_classes(test, train, model, top_n):\n",
    "#     predictions = []\n",
    "#     similar_examples = []\n",
    "    \n",
    "#     for query in test['Вопрос пользователя']:\n",
    "#         similar_questions, predicted_class = find_similar_class(query, train, model, top_n)\n",
    "#         predictions.append(predicted_class)\n",
    "#         # Сохраняем наиболее похожий вопрос\n",
    "#         similar_examples.append(similar_questions.iloc[0] if not similar_questions.empty else None)\n",
    "    \n",
    "#     # Добавляем новые колонки в тестовый датафрейм\n",
    "#     test['predictions'] = predictions\n",
    "#     test['similar_examples'] = similar_examples\n",
    "    \n",
    "#     return test"
   ]
  },
  {
   "cell_type": "code",
   "execution_count": 18,
   "metadata": {},
   "outputs": [],
   "source": [
    "# def calculate_metrics(test, column):\n",
    "#     # accuracy_per_class = test.groupby('Классификатор 1 уровня', as_index=False)[column].apply(\n",
    "#     #     lambda x: accuracy_score(test.loc[x.index, 'Классификатор 1 уровня'], x)\n",
    "#     # )\n",
    "\n",
    "#     overall_accuracy = accuracy_score(test['target'], test[column])\n",
    "#     print(overall_accuracy)\n",
    "\n",
    "#     class_report = classification_report(test['target'], test[column], zero_division=0)\n",
    "#     print(class_report)"
   ]
  },
  {
   "cell_type": "code",
   "execution_count": 19,
   "metadata": {},
   "outputs": [],
   "source": [
    "# test = predict_classes(test, train, model, 1)"
   ]
  },
  {
   "cell_type": "code",
   "execution_count": null,
   "metadata": {},
   "outputs": [],
   "source": [
    "# calculate_metrics(test, 'predictions')"
   ]
  },
  {
   "cell_type": "code",
   "execution_count": null,
   "metadata": {},
   "outputs": [],
   "source": [
    "# test.loc[test['target'] != test['predictions']]"
   ]
  },
  {
   "cell_type": "code",
   "execution_count": null,
   "metadata": {},
   "outputs": [],
   "source": [
    "# "
   ]
  },
  {
   "cell_type": "code",
   "execution_count": null,
   "metadata": {},
   "outputs": [],
   "source": [
    "# "
   ]
  },
  {
   "cell_type": "code",
   "execution_count": 19,
   "metadata": {},
   "outputs": [],
   "source": [
    "test.loc[test['target'] != test['predictions']].to_csv('wrong_predictions_target.csv')"
   ]
  },
  {
   "cell_type": "code",
   "execution_count": null,
   "metadata": {},
   "outputs": [],
   "source": [
    "# GRID_OF_TOP_N = list(range(1, 21))\n",
    "\n",
    "# for top_n in GRID_OF_TOP_N:\n",
    "#     test = predict_classes(test, train, model, top_n)\n",
    "\n",
    "#     print(F\"====================== TOP_N - {top_n} START METRICS REPORT ======================\")\n",
    "#     calculate_metrics(test, 'predictions')\n",
    "#     print(F\"====================== TOP_N - {top_n} END METRICS REPORT ======================\")"
   ]
  },
  {
   "cell_type": "code",
   "execution_count": null,
   "metadata": {},
   "outputs": [],
   "source": [
    "# "
   ]
  }
 ],
 "metadata": {
  "kernelspec": {
   "display_name": ".venv",
   "language": "python",
   "name": "python3"
  },
  "language_info": {
   "codemirror_mode": {
    "name": "ipython",
    "version": 3
   },
   "file_extension": ".py",
   "mimetype": "text/x-python",
   "name": "python",
   "nbconvert_exporter": "python",
   "pygments_lexer": "ipython3",
   "version": "3.10.12"
  }
 },
 "nbformat": 4,
 "nbformat_minor": 2
}
